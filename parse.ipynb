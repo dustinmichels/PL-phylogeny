{
 "cells": [
  {
   "cell_type": "markdown",
   "metadata": {},
   "source": [
    "# Parse Snippets"
   ]
  },
  {
   "cell_type": "code",
   "execution_count": null,
   "metadata": {},
   "outputs": [],
   "source": []
  },
  {
   "cell_type": "code",
   "execution_count": null,
   "metadata": {},
   "outputs": [],
   "source": []
  },
  {
   "cell_type": "code",
   "execution_count": null,
   "metadata": {},
   "outputs": [],
   "source": []
  },
  {
   "cell_type": "code",
   "execution_count": null,
   "metadata": {},
   "outputs": [],
   "source": []
  },
  {
   "cell_type": "code",
   "execution_count": null,
   "metadata": {},
   "outputs": [],
   "source": []
  },
  {
   "cell_type": "code",
   "execution_count": null,
   "metadata": {},
   "outputs": [],
   "source": []
  },
  {
   "cell_type": "code",
   "execution_count": null,
   "metadata": {},
   "outputs": [],
   "source": []
  },
  {
   "cell_type": "code",
   "execution_count": 3,
   "metadata": {},
   "outputs": [
    {
     "data": {
      "text/plain": [
       "59"
      ]
     },
     "execution_count": 3,
     "metadata": {},
     "output_type": "execute_result"
    }
   ],
   "source": [
    "with open('snippets/ext.json') as j:\n",
    "    extensions = json.load(j)\n",
    "\n",
    "len(extensions)"
   ]
  },
  {
   "cell_type": "code",
   "execution_count": 4,
   "metadata": {},
   "outputs": [],
   "source": [
    "files = os.listdir(src_dir)\n",
    "data = {}\n",
    "\n",
    "for filename in files:\n",
    "    path = os.path.join(src_dir, filename)\n",
    "    ext = filename.split('.')[1]\n",
    "    lang = extensions[ext]\n",
    "    with open(path) as f:\n",
    "        code = f.read().strip()\n",
    "        data[lang] = code"
   ]
  },
  {
   "cell_type": "code",
   "execution_count": 5,
   "metadata": {},
   "outputs": [],
   "source": [
    "def code_into_dict(src_dir, extensions):\n",
    "    \"\"\"Given a dir with code snippets, return code in single dict\"\"\"\n",
    "    data = {}\n",
    "    files = os.listdir(src_dir)\n",
    "    for filename in files:\n",
    "        path = os.path.join(src_dir, filename)\n",
    "        ext = filename.split('.')[1]\n",
    "        lang = extensions[ext]\n",
    "        with open(path) as f:\n",
    "            code = f.read().strip()\n",
    "            data[lang] = code\n",
    "    return data"
   ]
  },
  {
   "cell_type": "code",
   "execution_count": 6,
   "metadata": {},
   "outputs": [],
   "source": [
    "def load_extensions():\n",
    "    with open('snippets/ext.json') as f:\n",
    "        return json.load(f)"
   ]
  },
  {
   "cell_type": "code",
   "execution_count": 12,
   "metadata": {},
   "outputs": [],
   "source": [
    "def consolidate_code_files(code_dir):\n",
    "    src_dir = os.path.join(code_dir, \"src\")\n",
    "    extensions = load_extensions()\n",
    "    data = code_into_dict(src_dir, extensions)\n",
    "\n",
    "    outfile_path = os.path.join(code_dir, \"data.json\")\n",
    "    with open(outfile_path, \"w\") as f:\n",
    "        json.dump(data, f, indent=2)"
   ]
  },
  {
   "cell_type": "code",
   "execution_count": 13,
   "metadata": {},
   "outputs": [],
   "source": [
    "consolidate_code_files(code_dir)"
   ]
  },
  {
   "cell_type": "code",
   "execution_count": null,
   "metadata": {},
   "outputs": [],
   "source": []
  }
 ],
 "metadata": {
  "kernelspec": {
   "display_name": "Python 3",
   "language": "python",
   "name": "python3"
  },
  "language_info": {
   "codemirror_mode": {
    "name": "ipython",
    "version": 3
   },
   "file_extension": ".py",
   "mimetype": "text/x-python",
   "name": "python",
   "nbconvert_exporter": "python",
   "pygments_lexer": "ipython3",
   "version": "3.7.1"
  }
 },
 "nbformat": 4,
 "nbformat_minor": 2
}
