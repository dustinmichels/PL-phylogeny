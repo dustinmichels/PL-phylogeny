{
 "cells": [
  {
   "cell_type": "markdown",
   "metadata": {},
   "source": [
    "# Needleman–Wunsch"
   ]
  },
  {
   "cell_type": "code",
   "execution_count": 1,
   "metadata": {},
   "outputs": [],
   "source": [
    "%load_ext autoreload\n",
    "%autoreload 2\n",
    "\n",
    "import numpy as np\n",
    "import pandas as pd\n",
    "from IPython.display import display, Markdown, Latex"
   ]
  },
  {
   "cell_type": "code",
   "execution_count": 2,
   "metadata": {},
   "outputs": [],
   "source": [
    "import sys\n",
    "sys.path.insert(0, '..')"
   ]
  },
  {
   "cell_type": "markdown",
   "metadata": {},
   "source": [
    "## Load Data"
   ]
  },
  {
   "cell_type": "code",
   "execution_count": 3,
   "metadata": {},
   "outputs": [],
   "source": [
    "from phylo.main import load_snippets_data, load_snippets_md"
   ]
  },
  {
   "cell_type": "code",
   "execution_count": 4,
   "metadata": {},
   "outputs": [],
   "source": [
    "data = load_snippets_data('mult')\n",
    "md = load_snippets_md('mult')"
   ]
  },
  {
   "cell_type": "markdown",
   "metadata": {},
   "source": [
    "## Classy "
   ]
  },
  {
   "cell_type": "code",
   "execution_count": 5,
   "metadata": {},
   "outputs": [],
   "source": [
    "from phylo.needleman_wunsch import NW"
   ]
  },
  {
   "cell_type": "code",
   "execution_count": 6,
   "metadata": {},
   "outputs": [],
   "source": [
    "s1 = \"hello\"\n",
    "s2 = \"hllo\""
   ]
  },
  {
   "cell_type": "code",
   "execution_count": 7,
   "metadata": {},
   "outputs": [],
   "source": [
    "nw = NW(s1, s2)\n",
    "nw.solve()"
   ]
  },
  {
   "cell_type": "code",
   "execution_count": 8,
   "metadata": {},
   "outputs": [
    {
     "name": "stdout",
     "output_type": "stream",
     "text": [
      "hello\n",
      "h-llo\n"
     ]
    }
   ],
   "source": [
    "print(nw.aligned_s1)\n",
    "print(nw.aligned_s2)"
   ]
  },
  {
   "cell_type": "code",
   "execution_count": 9,
   "metadata": {},
   "outputs": [
    {
     "data": {
      "text/html": [
       "<div>\n",
       "<style scoped>\n",
       "    .dataframe tbody tr th:only-of-type {\n",
       "        vertical-align: middle;\n",
       "    }\n",
       "\n",
       "    .dataframe tbody tr th {\n",
       "        vertical-align: top;\n",
       "    }\n",
       "\n",
       "    .dataframe thead th {\n",
       "        text-align: right;\n",
       "    }\n",
       "</style>\n",
       "<table border=\"1\" class=\"dataframe\">\n",
       "  <thead>\n",
       "    <tr style=\"text-align: right;\">\n",
       "      <th></th>\n",
       "      <th>0</th>\n",
       "      <th>1</th>\n",
       "      <th>2</th>\n",
       "      <th>3</th>\n",
       "      <th>4</th>\n",
       "    </tr>\n",
       "  </thead>\n",
       "  <tbody>\n",
       "    <tr>\n",
       "      <th>0</th>\n",
       "      <td>h</td>\n",
       "      <td>e</td>\n",
       "      <td>l</td>\n",
       "      <td>l</td>\n",
       "      <td>o</td>\n",
       "    </tr>\n",
       "    <tr>\n",
       "      <th>1</th>\n",
       "      <td>h</td>\n",
       "      <td>-</td>\n",
       "      <td>l</td>\n",
       "      <td>l</td>\n",
       "      <td>o</td>\n",
       "    </tr>\n",
       "  </tbody>\n",
       "</table>\n",
       "</div>"
      ],
      "text/plain": [
       "   0  1  2  3  4\n",
       "0  h  e  l  l  o\n",
       "1  h  -  l  l  o"
      ]
     },
     "execution_count": 9,
     "metadata": {},
     "output_type": "execute_result"
    }
   ],
   "source": [
    "nw.alignment_table"
   ]
  },
  {
   "cell_type": "code",
   "execution_count": 10,
   "metadata": {},
   "outputs": [
    {
     "data": {
      "text/plain": [
       "('4/5', 0.8)"
      ]
     },
     "execution_count": 10,
     "metadata": {},
     "output_type": "execute_result"
    }
   ],
   "source": [
    "nw.identity_score"
   ]
  },
  {
   "cell_type": "code",
   "execution_count": 11,
   "metadata": {},
   "outputs": [
    {
     "data": {
      "text/html": [
       "<div>\n",
       "<style scoped>\n",
       "    .dataframe tbody tr th:only-of-type {\n",
       "        vertical-align: middle;\n",
       "    }\n",
       "\n",
       "    .dataframe tbody tr th {\n",
       "        vertical-align: top;\n",
       "    }\n",
       "\n",
       "    .dataframe thead th {\n",
       "        text-align: right;\n",
       "    }\n",
       "</style>\n",
       "<table border=\"1\" class=\"dataframe\">\n",
       "  <thead>\n",
       "    <tr style=\"text-align: right;\">\n",
       "      <th></th>\n",
       "      <th></th>\n",
       "      <th>h</th>\n",
       "      <th>e</th>\n",
       "      <th>l</th>\n",
       "      <th>l</th>\n",
       "      <th>o</th>\n",
       "    </tr>\n",
       "  </thead>\n",
       "  <tbody>\n",
       "    <tr>\n",
       "      <th></th>\n",
       "      <td>[. 0]</td>\n",
       "      <td>[← -1]</td>\n",
       "      <td>[← -2]</td>\n",
       "      <td>[← -3]</td>\n",
       "      <td>[← -4]</td>\n",
       "      <td>[← -5]</td>\n",
       "    </tr>\n",
       "    <tr>\n",
       "      <th>h</th>\n",
       "      <td>[↑ -1]</td>\n",
       "      <td>[↖ 1]</td>\n",
       "      <td>[← 0]</td>\n",
       "      <td>[← -1]</td>\n",
       "      <td>[← -2]</td>\n",
       "      <td>[← -3]</td>\n",
       "    </tr>\n",
       "    <tr>\n",
       "      <th>l</th>\n",
       "      <td>[↑ -2]</td>\n",
       "      <td>[↑ 0]</td>\n",
       "      <td>[↖ 0]</td>\n",
       "      <td>[↖ 1]</td>\n",
       "      <td>[↖ 0]</td>\n",
       "      <td>[← -1]</td>\n",
       "    </tr>\n",
       "    <tr>\n",
       "      <th>l</th>\n",
       "      <td>[↑ -3]</td>\n",
       "      <td>[↑ -1]</td>\n",
       "      <td>[↖ -1]</td>\n",
       "      <td>[↖ 1]</td>\n",
       "      <td>[↖ 2]</td>\n",
       "      <td>[← 1]</td>\n",
       "    </tr>\n",
       "    <tr>\n",
       "      <th>o</th>\n",
       "      <td>[↑ -4]</td>\n",
       "      <td>[↑ -2]</td>\n",
       "      <td>[↖ -2]</td>\n",
       "      <td>[↑ 0]</td>\n",
       "      <td>[↑ 1]</td>\n",
       "      <td>[↖ 3]</td>\n",
       "    </tr>\n",
       "  </tbody>\n",
       "</table>\n",
       "</div>"
      ],
      "text/plain": [
       "                h       e       l       l       o\n",
       "    [. 0]  [← -1]  [← -2]  [← -3]  [← -4]  [← -5]\n",
       "h  [↑ -1]   [↖ 1]   [← 0]  [← -1]  [← -2]  [← -3]\n",
       "l  [↑ -2]   [↑ 0]   [↖ 0]   [↖ 1]   [↖ 0]  [← -1]\n",
       "l  [↑ -3]  [↑ -1]  [↖ -1]   [↖ 1]   [↖ 2]   [← 1]\n",
       "o  [↑ -4]  [↑ -2]  [↖ -2]   [↑ 0]   [↑ 1]   [↖ 3]"
      ]
     },
     "execution_count": 11,
     "metadata": {},
     "output_type": "execute_result"
    }
   ],
   "source": [
    "nw.matrix"
   ]
  },
  {
   "cell_type": "code",
   "execution_count": 12,
   "metadata": {},
   "outputs": [
    {
     "name": "stdout",
     "output_type": "stream",
     "text": [
      "\n",
      "           STRINGS            \n",
      "==============================\n",
      "~~~~~~~~~~\n",
      "hello\n",
      "~~~~~~~~~~\n",
      "hllo\n",
      "\n",
      "          ALIGNMENT           \n",
      "==============================\n",
      "hello\n",
      "h-llo\n",
      "\n",
      "        IDENTITY SCORE        \n",
      "==============================\n",
      "4/5\n",
      "80.0 %\n"
     ]
    }
   ],
   "source": [
    "nw.summary()"
   ]
  },
  {
   "cell_type": "markdown",
   "metadata": {},
   "source": [
    "## Functional"
   ]
  },
  {
   "cell_type": "code",
   "execution_count": 13,
   "metadata": {},
   "outputs": [],
   "source": [
    "from phylo.needleman_wunsch import (\n",
    "    nw_algo, arr_to_frames, arr_to_table,\n",
    "    traceback, identity_score\n",
    ")"
   ]
  },
  {
   "cell_type": "code",
   "execution_count": 14,
   "metadata": {},
   "outputs": [],
   "source": [
    "s1 = \"hello\"\n",
    "s2 = \"hllo\""
   ]
  },
  {
   "cell_type": "code",
   "execution_count": 15,
   "metadata": {},
   "outputs": [],
   "source": [
    "arr = nw_algo(s1, s2)"
   ]
  },
  {
   "cell_type": "code",
   "execution_count": 16,
   "metadata": {},
   "outputs": [
    {
     "data": {
      "text/html": [
       "<div>\n",
       "<style scoped>\n",
       "    .dataframe tbody tr th:only-of-type {\n",
       "        vertical-align: middle;\n",
       "    }\n",
       "\n",
       "    .dataframe tbody tr th {\n",
       "        vertical-align: top;\n",
       "    }\n",
       "\n",
       "    .dataframe thead th {\n",
       "        text-align: right;\n",
       "    }\n",
       "</style>\n",
       "<table border=\"1\" class=\"dataframe\">\n",
       "  <thead>\n",
       "    <tr style=\"text-align: right;\">\n",
       "      <th></th>\n",
       "      <th></th>\n",
       "      <th>h</th>\n",
       "      <th>e</th>\n",
       "      <th>l</th>\n",
       "      <th>l</th>\n",
       "      <th>o</th>\n",
       "    </tr>\n",
       "  </thead>\n",
       "  <tbody>\n",
       "    <tr>\n",
       "      <th></th>\n",
       "      <td>[. 0]</td>\n",
       "      <td>[← -1]</td>\n",
       "      <td>[← -2]</td>\n",
       "      <td>[← -3]</td>\n",
       "      <td>[← -4]</td>\n",
       "      <td>[← -5]</td>\n",
       "    </tr>\n",
       "    <tr>\n",
       "      <th>h</th>\n",
       "      <td>[↑ -1]</td>\n",
       "      <td>[↖ 1]</td>\n",
       "      <td>[← 0]</td>\n",
       "      <td>[← -1]</td>\n",
       "      <td>[← -2]</td>\n",
       "      <td>[← -3]</td>\n",
       "    </tr>\n",
       "    <tr>\n",
       "      <th>l</th>\n",
       "      <td>[↑ -2]</td>\n",
       "      <td>[↑ 0]</td>\n",
       "      <td>[↖ 0]</td>\n",
       "      <td>[↖ 1]</td>\n",
       "      <td>[↖ 0]</td>\n",
       "      <td>[← -1]</td>\n",
       "    </tr>\n",
       "    <tr>\n",
       "      <th>l</th>\n",
       "      <td>[↑ -3]</td>\n",
       "      <td>[↑ -1]</td>\n",
       "      <td>[↖ -1]</td>\n",
       "      <td>[↖ 1]</td>\n",
       "      <td>[↖ 2]</td>\n",
       "      <td>[← 1]</td>\n",
       "    </tr>\n",
       "    <tr>\n",
       "      <th>o</th>\n",
       "      <td>[↑ -4]</td>\n",
       "      <td>[↑ -2]</td>\n",
       "      <td>[↖ -2]</td>\n",
       "      <td>[↑ 0]</td>\n",
       "      <td>[↑ 1]</td>\n",
       "      <td>[↖ 3]</td>\n",
       "    </tr>\n",
       "  </tbody>\n",
       "</table>\n",
       "</div>"
      ],
      "text/plain": [
       "                h       e       l       l       o\n",
       "    [. 0]  [← -1]  [← -2]  [← -3]  [← -4]  [← -5]\n",
       "h  [↑ -1]   [↖ 1]   [← 0]  [← -1]  [← -2]  [← -3]\n",
       "l  [↑ -2]   [↑ 0]   [↖ 0]   [↖ 1]   [↖ 0]  [← -1]\n",
       "l  [↑ -3]  [↑ -1]  [↖ -1]   [↖ 1]   [↖ 2]   [← 1]\n",
       "o  [↑ -4]  [↑ -2]  [↖ -2]   [↑ 0]   [↑ 1]   [↖ 3]"
      ]
     },
     "execution_count": 16,
     "metadata": {},
     "output_type": "execute_result"
    }
   ],
   "source": [
    "arr_to_table(arr, s1, s2)"
   ]
  },
  {
   "cell_type": "code",
   "execution_count": 17,
   "metadata": {},
   "outputs": [],
   "source": [
    "a, b = traceback(arr['dir'], s1, s2)"
   ]
  },
  {
   "cell_type": "code",
   "execution_count": 18,
   "metadata": {},
   "outputs": [
    {
     "name": "stdout",
     "output_type": "stream",
     "text": [
      "hello\n",
      "h-llo\n"
     ]
    }
   ],
   "source": [
    "print(a)\n",
    "print(b)"
   ]
  },
  {
   "cell_type": "code",
   "execution_count": 19,
   "metadata": {},
   "outputs": [
    {
     "data": {
      "text/plain": [
       "('4/5', 0.8)"
      ]
     },
     "execution_count": 19,
     "metadata": {},
     "output_type": "execute_result"
    }
   ],
   "source": [
    "identity_score(a, b)"
   ]
  },
  {
   "cell_type": "code",
   "execution_count": null,
   "metadata": {},
   "outputs": [],
   "source": []
  }
 ],
 "metadata": {
  "kernelspec": {
   "display_name": "Python 3",
   "language": "python",
   "name": "python3"
  },
  "language_info": {
   "codemirror_mode": {
    "name": "ipython",
    "version": 3
   },
   "file_extension": ".py",
   "mimetype": "text/x-python",
   "name": "python",
   "nbconvert_exporter": "python",
   "pygments_lexer": "ipython3",
   "version": "3.7.3"
  }
 },
 "nbformat": 4,
 "nbformat_minor": 2
}
