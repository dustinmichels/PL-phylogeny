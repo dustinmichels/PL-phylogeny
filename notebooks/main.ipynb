{
 "cells": [
  {
   "cell_type": "markdown",
   "metadata": {},
   "source": [
    "# Phylogeny of Programming Languages"
   ]
  },
  {
   "cell_type": "code",
   "execution_count": 1,
   "metadata": {},
   "outputs": [],
   "source": [
    "%load_ext autoreload\n",
    "%autoreload 2\n",
    "\n",
    "import os\n",
    "import sys\n",
    "import json\n",
    "\n",
    "import numpy as np\n",
    "import pandas as pd\n",
    "from IPython.display import display, Markdown, Latex, clear_output\n",
    "\n",
    "sys.path.insert(0, \"..\")  # to import code above this folder\n",
    "from phylo.main import code_to_markdown, markdownify"
   ]
  },
  {
   "cell_type": "markdown",
   "metadata": {},
   "source": [
    "## Code Snippets\n",
    "\n",
    "\n",
    "Load a collection of simple `multiply(a, b)` functions in various languages, adapted from [Rosetta Code](https://rosettacode.org/wiki/Function_definition)"
   ]
  },
  {
   "cell_type": "code",
   "execution_count": 2,
   "metadata": {},
   "outputs": [],
   "source": [
    "from phylo.main import load_snippets_data, load_snippets_md"
   ]
  },
  {
   "cell_type": "code",
   "execution_count": 3,
   "metadata": {},
   "outputs": [],
   "source": [
    "# Load data\n",
    "\n",
    "data = load_snippets_data('mult')\n",
    "md = load_snippets_md('mult')"
   ]
  },
  {
   "cell_type": "code",
   "execution_count": 4,
   "metadata": {},
   "outputs": [
    {
     "data": {
      "text/plain": [
       "dict_keys(['C++', 'Perl', 'C', 'Python', 'D', 'E', 'Standard ML', 'Java', 'Go', 'AppleScript', 'Elixir', 'Swift', 'C#', 'Scala', 'JavaScript', 'Clojure', 'Mathematica', 'Rust', 'Common Lisp', 'Scheme', 'PowerShell', 'Erlang', 'APL', 'PostScript', 'R', 'Prolog', 'Emacs Lisp', 'Groovy', 'Visual Basic', 'FORTRAN', 'Shell', 'Kotlin', 'Ada', 'ActionScript', 'Haskell', 'OCaml', 'F#', 'Elm', 'Visual Basic Script', 'Racket', 'Julia', 'PHP', 'Lua', 'Awk', 'Ruby', 'TypeScript', 'CoffeeScript'])"
      ]
     },
     "execution_count": 4,
     "metadata": {},
     "output_type": "execute_result"
    }
   ],
   "source": [
    "data.keys()"
   ]
  },
  {
   "cell_type": "code",
   "execution_count": 5,
   "metadata": {},
   "outputs": [
    {
     "data": {
      "text/plain": [
       "'int multiply(int a, int b)\\n{\\n    return a * b;\\n}'"
      ]
     },
     "execution_count": 5,
     "metadata": {},
     "output_type": "execute_result"
    }
   ],
   "source": [
    "data['C']"
   ]
  },
  {
   "cell_type": "code",
   "execution_count": 6,
   "metadata": {},
   "outputs": [
    {
     "name": "stdout",
     "output_type": "stream",
     "text": [
      "int multiply(int a, int b)\n",
      "{\n",
      "    return a * b;\n",
      "}\n"
     ]
    }
   ],
   "source": [
    "print(data['C'])"
   ]
  },
  {
   "cell_type": "markdown",
   "metadata": {},
   "source": [
    "---\n",
    "Uncomment to see all code snippets in data / markdown form"
   ]
  },
  {
   "cell_type": "code",
   "execution_count": 7,
   "metadata": {},
   "outputs": [],
   "source": [
    "# data"
   ]
  },
  {
   "cell_type": "code",
   "execution_count": 8,
   "metadata": {},
   "outputs": [],
   "source": [
    "# display(Markdown(md))"
   ]
  },
  {
   "cell_type": "markdown",
   "metadata": {},
   "source": [
    "## Alignment"
   ]
  },
  {
   "cell_type": "markdown",
   "metadata": {},
   "source": [
    "### Needleman–Wunsch algorithm\n",
    "\n",
    "Optimal string alignments are found using Needleman–Wunsch algorithm\n",
    "\n",
    "See:\n",
    "\n",
    "- [Wikipedia](https://en.wikipedia.org/wiki/Needleman%E2%80%93Wunsch_algorithm)\n",
    "- [Teaching tool](http://rna.informatik.uni-freiburg.de/Teaching/index.jsp?toolName=Needleman-Wunsch)\n",
    "- [Interactive tool](https://blievrouw.github.io/needleman-wunsch/)"
   ]
  },
  {
   "cell_type": "code",
   "execution_count": 9,
   "metadata": {},
   "outputs": [],
   "source": [
    "from phylo.needleman_wunsch import NW"
   ]
  },
  {
   "cell_type": "markdown",
   "metadata": {},
   "source": [
    "#### Example #1: C vs. C++"
   ]
  },
  {
   "cell_type": "markdown",
   "metadata": {},
   "source": [
    "##### Load strings"
   ]
  },
  {
   "cell_type": "code",
   "execution_count": 10,
   "metadata": {},
   "outputs": [
    {
     "data": {
      "text/markdown": [
       "**C**\n",
       "\n",
       "```C\n",
       "int multiply(int a, int b)\n",
       "{\n",
       "    return a * b;\n",
       "}\n",
       "```\n",
       "\n",
       "----\n",
       "\n"
      ],
      "text/plain": [
       "<IPython.core.display.Markdown object>"
      ]
     },
     "metadata": {},
     "output_type": "display_data"
    },
    {
     "data": {
      "text/markdown": [
       "**C++**\n",
       "\n",
       "```C++\n",
       "inline int multiply(int a, int b)\n",
       "{\n",
       "    return a * b;\n",
       "}\n",
       "```\n",
       "\n",
       "----\n",
       "\n"
      ],
      "text/plain": [
       "<IPython.core.display.Markdown object>"
      ]
     },
     "metadata": {},
     "output_type": "display_data"
    }
   ],
   "source": [
    "lang1 = 'C'\n",
    "lang2 = 'C++'\n",
    "\n",
    "s1 = data[lang1]\n",
    "s2 = data[lang2]\n",
    "markdownify(s1, lang1, show=True);\n",
    "markdownify(s2, lang2, show=True);"
   ]
  },
  {
   "cell_type": "markdown",
   "metadata": {},
   "source": [
    "##### Use algorithm"
   ]
  },
  {
   "cell_type": "code",
   "execution_count": 11,
   "metadata": {},
   "outputs": [
    {
     "name": "stdout",
     "output_type": "stream",
     "text": [
      "\n",
      "#=======================================\n",
      "#\n",
      "# Aligned_sequences: 2\n",
      "# Length: 55\n",
      "# Identity:     48/55  (87.27 %)\n",
      "# Gaps:         7/55   (12.73 %)\n",
      "#\n",
      "#=======================================\n",
      "\n",
      "MULT_C  \t▬▬▬▬▬▬▬int·multiply(int·a,·int·b)↵{↵····return·a·*·b;↵}\n",
      "        \t       ||||||||||||||||||||||||||||||||||||||||||||||||\n",
      "MULT_C++\tinline·int·multiply(int·a,·int·b)↵{↵····return·a·*·b;↵}\n",
      "\n"
     ]
    }
   ],
   "source": [
    "nw = NW(s1, s2, s1_name=\"MULT_C\", s2_name=\"MULT_C++\")\n",
    "nw.solve()\n",
    "print(nw.summarize())"
   ]
  },
  {
   "cell_type": "markdown",
   "metadata": {},
   "source": [
    "#### Example #2"
   ]
  },
  {
   "cell_type": "code",
   "execution_count": 12,
   "metadata": {},
   "outputs": [
    {
     "data": {
      "text/markdown": [
       "**C**\n",
       "\n",
       "```C\n",
       "int multiply(int a, int b)\n",
       "{\n",
       "    return a * b;\n",
       "}\n",
       "```\n",
       "\n",
       "----\n",
       "\n"
      ],
      "text/plain": [
       "<IPython.core.display.Markdown object>"
      ]
     },
     "metadata": {},
     "output_type": "display_data"
    },
    {
     "data": {
      "text/markdown": [
       "**Python**\n",
       "\n",
       "```Python\n",
       "def multiply(a, b):\n",
       "    return a * b\n",
       "```\n",
       "\n",
       "----\n",
       "\n"
      ],
      "text/plain": [
       "<IPython.core.display.Markdown object>"
      ]
     },
     "metadata": {},
     "output_type": "display_data"
    }
   ],
   "source": [
    "lang1 = 'C'\n",
    "lang2 = 'Python'\n",
    "\n",
    "s1 = data[lang1]\n",
    "s2 = data[lang2]\n",
    "\n",
    "markdownify(s1, lang1, show=True);\n",
    "markdownify(s2, lang2, show=True);"
   ]
  },
  {
   "cell_type": "code",
   "execution_count": 13,
   "metadata": {},
   "outputs": [
    {
     "name": "stdout",
     "output_type": "stream",
     "text": [
      "\n",
      "#=======================================\n",
      "#\n",
      "# Aligned_sequences: 2\n",
      "# Length: 48\n",
      "# Identity:     32/48  (66.67 %)\n",
      "# Gaps:         12/48  (25 %)\n",
      "#\n",
      "#=======================================\n",
      "\n",
      "MULT_C     \tint·multiply(int·a,·int·b)↵{↵····return·a·*·b;↵}\n",
      "           \t   ||||||||||    ||    |||  |||||||||||||||||   \n",
      "MULT_PYTHON\tdef·multiply(▬▬▬▬a,▬▬▬▬·b)▬:↵····return·a·*·b▬▬▬\n",
      "\n"
     ]
    }
   ],
   "source": [
    "nw = NW(s1, s2, s1_name=\"MULT_C\", s2_name=\"MULT_PYTHON\")\n",
    "nw.solve()\n",
    "print(nw.summarize())"
   ]
  },
  {
   "cell_type": "code",
   "execution_count": null,
   "metadata": {},
   "outputs": [],
   "source": []
  },
  {
   "cell_type": "code",
   "execution_count": null,
   "metadata": {},
   "outputs": [],
   "source": []
  },
  {
   "cell_type": "code",
   "execution_count": null,
   "metadata": {},
   "outputs": [],
   "source": []
  },
  {
   "cell_type": "markdown",
   "metadata": {},
   "source": [
    "## Scoring Matrix & Tree"
   ]
  },
  {
   "cell_type": "code",
   "execution_count": 121,
   "metadata": {},
   "outputs": [],
   "source": [
    "# identify subset of langs\n",
    "my_langs = [\n",
    "    'C++', 'Perl', 'C', 'Python', \"Java\", \"Go\",\n",
    "    \"Emacs Lisp\", \"Racket\", \"R\", \"Julia\", \"Rust\",\n",
    "    \"Haskell\", \"Ruby\", \"TypeScript\", \"Scheme\", \"Shell\",\n",
    "    \"PowerShell\", \"Clojure\", \"OCaml\", \"Standard ML\"\n",
    "]"
   ]
  },
  {
   "cell_type": "code",
   "execution_count": 129,
   "metadata": {},
   "outputs": [
    {
     "name": "stdout",
     "output_type": "stream",
     "text": [
      "len langs: 20\n",
      "filepath : out/my_langs_identity.csv\n"
     ]
    }
   ],
   "source": [
    "################\n",
    "# SET THIS:\n",
    "# Use all langs or just a subset (my_langs?)\n",
    "USE_ALL = False\n",
    "################\n",
    "\n",
    "# other vars get set correspondingly\n",
    "if USE_ALL:\n",
    "    langs = list(data.keys())\n",
    "else:\n",
    "    langs = my_langs\n",
    "\n",
    "fp = \"out/all_langs_identity.csv\" if USE_ALL else \"out/my_langs_identity.csv\"\n",
    "\n",
    "print(\"len langs:\", len(langs))\n",
    "print(\"filepath :\", fp)"
   ]
  },
  {
   "cell_type": "markdown",
   "metadata": {},
   "source": [
    "### Construct Scoring Matrix\n",
    "\n",
    "Compare all languages to each other"
   ]
  },
  {
   "cell_type": "code",
   "execution_count": 123,
   "metadata": {},
   "outputs": [
    {
     "data": {
      "text/plain": [
       "'Progress: 100%'"
      ]
     },
     "metadata": {},
     "output_type": "display_data"
    }
   ],
   "source": [
    "L = len(langs)\n",
    "\n",
    "# create empty scoring matrix\n",
    "scoring_matrix = np.zeros((L, L), dtype=\"f\")\n",
    "\n",
    "count = 0\n",
    "for i in range(L):\n",
    "    for j in range(L):\n",
    "        \n",
    "        # display progress\n",
    "        count += 1\n",
    "        progress = (count / (L * L)) * 100\n",
    "        clear_output(wait=True)\n",
    "        display(f\"Progress: {progress:.5g}%\")\n",
    "        \n",
    "        s1 = data[langs[i]]\n",
    "        s2 = data[langs[j]]\n",
    "                \n",
    "        nw = NW(s1, s2)\n",
    "        nw.solve()\n",
    "        \n",
    "        score = nw.identity_score[1]\n",
    "        scoring_matrix[i, j] = score"
   ]
  },
  {
   "cell_type": "code",
   "execution_count": 124,
   "metadata": {},
   "outputs": [
    {
     "data": {
      "text/plain": [
       "(20, 20)"
      ]
     },
     "execution_count": 124,
     "metadata": {},
     "output_type": "execute_result"
    }
   ],
   "source": [
    "df = pd.DataFrame(scoring_matrix, columns=langs, index=langs)\n",
    "df.shape"
   ]
  },
  {
   "cell_type": "code",
   "execution_count": 125,
   "metadata": {},
   "outputs": [
    {
     "data": {
      "text/html": [
       "<div>\n",
       "<style scoped>\n",
       "    .dataframe tbody tr th:only-of-type {\n",
       "        vertical-align: middle;\n",
       "    }\n",
       "\n",
       "    .dataframe tbody tr th {\n",
       "        vertical-align: top;\n",
       "    }\n",
       "\n",
       "    .dataframe thead th {\n",
       "        text-align: right;\n",
       "    }\n",
       "</style>\n",
       "<table border=\"1\" class=\"dataframe\">\n",
       "  <thead>\n",
       "    <tr style=\"text-align: right;\">\n",
       "      <th></th>\n",
       "      <th>C++</th>\n",
       "      <th>Perl</th>\n",
       "      <th>C</th>\n",
       "      <th>Python</th>\n",
       "      <th>Java</th>\n",
       "      <th>Go</th>\n",
       "      <th>Emacs Lisp</th>\n",
       "      <th>Racket</th>\n",
       "      <th>R</th>\n",
       "      <th>Julia</th>\n",
       "      <th>Rust</th>\n",
       "      <th>Haskell</th>\n",
       "      <th>Ruby</th>\n",
       "      <th>TypeScript</th>\n",
       "      <th>Scheme</th>\n",
       "      <th>Shell</th>\n",
       "      <th>PowerShell</th>\n",
       "      <th>Clojure</th>\n",
       "      <th>OCaml</th>\n",
       "      <th>Standard ML</th>\n",
       "    </tr>\n",
       "  </thead>\n",
       "  <tbody>\n",
       "    <tr>\n",
       "      <th>C++</th>\n",
       "      <td>1.000000</td>\n",
       "      <td>0.370968</td>\n",
       "      <td>0.872727</td>\n",
       "      <td>0.600000</td>\n",
       "      <td>0.806452</td>\n",
       "      <td>0.583333</td>\n",
       "      <td>0.345455</td>\n",
       "      <td>0.428571</td>\n",
       "      <td>0.267857</td>\n",
       "      <td>0.500000</td>\n",
       "      <td>0.453125</td>\n",
       "      <td>0.272727</td>\n",
       "      <td>0.473684</td>\n",
       "      <td>0.528571</td>\n",
       "      <td>0.428571</td>\n",
       "      <td>0.459016</td>\n",
       "      <td>0.463768</td>\n",
       "      <td>0.327273</td>\n",
       "      <td>0.375000</td>\n",
       "      <td>0.339286</td>\n",
       "    </tr>\n",
       "    <tr>\n",
       "      <th>Perl</th>\n",
       "      <td>0.370968</td>\n",
       "      <td>1.000000</td>\n",
       "      <td>0.418182</td>\n",
       "      <td>0.456522</td>\n",
       "      <td>0.362319</td>\n",
       "      <td>0.433962</td>\n",
       "      <td>0.380952</td>\n",
       "      <td>0.348837</td>\n",
       "      <td>0.236842</td>\n",
       "      <td>0.343750</td>\n",
       "      <td>0.346939</td>\n",
       "      <td>0.378378</td>\n",
       "      <td>0.368421</td>\n",
       "      <td>0.324324</td>\n",
       "      <td>0.348837</td>\n",
       "      <td>0.558140</td>\n",
       "      <td>0.615385</td>\n",
       "      <td>0.365854</td>\n",
       "      <td>0.365854</td>\n",
       "      <td>0.405405</td>\n",
       "    </tr>\n",
       "    <tr>\n",
       "      <th>C</th>\n",
       "      <td>0.872727</td>\n",
       "      <td>0.418182</td>\n",
       "      <td>1.000000</td>\n",
       "      <td>0.666667</td>\n",
       "      <td>0.758065</td>\n",
       "      <td>0.648148</td>\n",
       "      <td>0.346154</td>\n",
       "      <td>0.433962</td>\n",
       "      <td>0.274510</td>\n",
       "      <td>0.508197</td>\n",
       "      <td>0.508772</td>\n",
       "      <td>0.312500</td>\n",
       "      <td>0.520000</td>\n",
       "      <td>0.537313</td>\n",
       "      <td>0.433962</td>\n",
       "      <td>0.518519</td>\n",
       "      <td>0.469697</td>\n",
       "      <td>0.333333</td>\n",
       "      <td>0.346154</td>\n",
       "      <td>0.380000</td>\n",
       "    </tr>\n",
       "    <tr>\n",
       "      <th>Python</th>\n",
       "      <td>0.600000</td>\n",
       "      <td>0.456522</td>\n",
       "      <td>0.666667</td>\n",
       "      <td>1.000000</td>\n",
       "      <td>0.516129</td>\n",
       "      <td>0.622222</td>\n",
       "      <td>0.500000</td>\n",
       "      <td>0.536585</td>\n",
       "      <td>0.317073</td>\n",
       "      <td>0.500000</td>\n",
       "      <td>0.509434</td>\n",
       "      <td>0.416667</td>\n",
       "      <td>0.700000</td>\n",
       "      <td>0.470588</td>\n",
       "      <td>0.536585</td>\n",
       "      <td>0.555556</td>\n",
       "      <td>0.456140</td>\n",
       "      <td>0.473684</td>\n",
       "      <td>0.425000</td>\n",
       "      <td>0.486486</td>\n",
       "    </tr>\n",
       "    <tr>\n",
       "      <th>Java</th>\n",
       "      <td>0.806452</td>\n",
       "      <td>0.362319</td>\n",
       "      <td>0.758065</td>\n",
       "      <td>0.516129</td>\n",
       "      <td>1.000000</td>\n",
       "      <td>0.546875</td>\n",
       "      <td>0.290323</td>\n",
       "      <td>0.365079</td>\n",
       "      <td>0.269841</td>\n",
       "      <td>0.485714</td>\n",
       "      <td>0.422535</td>\n",
       "      <td>0.241935</td>\n",
       "      <td>0.406250</td>\n",
       "      <td>0.526316</td>\n",
       "      <td>0.365079</td>\n",
       "      <td>0.426471</td>\n",
       "      <td>0.453333</td>\n",
       "      <td>0.274194</td>\n",
       "      <td>0.338710</td>\n",
       "      <td>0.317460</td>\n",
       "    </tr>\n",
       "    <tr>\n",
       "      <th>Go</th>\n",
       "      <td>0.583333</td>\n",
       "      <td>0.433962</td>\n",
       "      <td>0.648148</td>\n",
       "      <td>0.622222</td>\n",
       "      <td>0.546875</td>\n",
       "      <td>1.000000</td>\n",
       "      <td>0.380000</td>\n",
       "      <td>0.420000</td>\n",
       "      <td>0.276596</td>\n",
       "      <td>0.534483</td>\n",
       "      <td>0.611111</td>\n",
       "      <td>0.333333</td>\n",
       "      <td>0.500000</td>\n",
       "      <td>0.579710</td>\n",
       "      <td>0.420000</td>\n",
       "      <td>0.471698</td>\n",
       "      <td>0.476190</td>\n",
       "      <td>0.346939</td>\n",
       "      <td>0.333333</td>\n",
       "      <td>0.456522</td>\n",
       "    </tr>\n",
       "    <tr>\n",
       "      <th>Emacs Lisp</th>\n",
       "      <td>0.345455</td>\n",
       "      <td>0.380952</td>\n",
       "      <td>0.346154</td>\n",
       "      <td>0.500000</td>\n",
       "      <td>0.290323</td>\n",
       "      <td>0.380000</td>\n",
       "      <td>1.000000</td>\n",
       "      <td>0.764706</td>\n",
       "      <td>0.235294</td>\n",
       "      <td>0.322581</td>\n",
       "      <td>0.384615</td>\n",
       "      <td>0.515152</td>\n",
       "      <td>0.555556</td>\n",
       "      <td>0.285714</td>\n",
       "      <td>0.764706</td>\n",
       "      <td>0.382979</td>\n",
       "      <td>0.321429</td>\n",
       "      <td>0.906250</td>\n",
       "      <td>0.542857</td>\n",
       "      <td>0.676471</td>\n",
       "    </tr>\n",
       "    <tr>\n",
       "      <th>Racket</th>\n",
       "      <td>0.428571</td>\n",
       "      <td>0.348837</td>\n",
       "      <td>0.433962</td>\n",
       "      <td>0.536585</td>\n",
       "      <td>0.365079</td>\n",
       "      <td>0.420000</td>\n",
       "      <td>0.764706</td>\n",
       "      <td>1.000000</td>\n",
       "      <td>0.294118</td>\n",
       "      <td>0.366667</td>\n",
       "      <td>0.418182</td>\n",
       "      <td>0.411765</td>\n",
       "      <td>0.605263</td>\n",
       "      <td>0.318841</td>\n",
       "      <td>1.000000</td>\n",
       "      <td>0.354167</td>\n",
       "      <td>0.327273</td>\n",
       "      <td>0.735294</td>\n",
       "      <td>0.485714</td>\n",
       "      <td>0.500000</td>\n",
       "    </tr>\n",
       "    <tr>\n",
       "      <th>R</th>\n",
       "      <td>0.267857</td>\n",
       "      <td>0.236842</td>\n",
       "      <td>0.274510</td>\n",
       "      <td>0.317073</td>\n",
       "      <td>0.269841</td>\n",
       "      <td>0.276596</td>\n",
       "      <td>0.235294</td>\n",
       "      <td>0.294118</td>\n",
       "      <td>1.000000</td>\n",
       "      <td>0.254237</td>\n",
       "      <td>0.229167</td>\n",
       "      <td>0.259259</td>\n",
       "      <td>0.351351</td>\n",
       "      <td>0.220588</td>\n",
       "      <td>0.294118</td>\n",
       "      <td>0.263158</td>\n",
       "      <td>0.211538</td>\n",
       "      <td>0.218750</td>\n",
       "      <td>0.258065</td>\n",
       "      <td>0.312500</td>\n",
       "    </tr>\n",
       "    <tr>\n",
       "      <th>Julia</th>\n",
       "      <td>0.500000</td>\n",
       "      <td>0.343750</td>\n",
       "      <td>0.508197</td>\n",
       "      <td>0.500000</td>\n",
       "      <td>0.485714</td>\n",
       "      <td>0.533333</td>\n",
       "      <td>0.322581</td>\n",
       "      <td>0.366667</td>\n",
       "      <td>0.254237</td>\n",
       "      <td>1.000000</td>\n",
       "      <td>0.460317</td>\n",
       "      <td>0.254237</td>\n",
       "      <td>0.482759</td>\n",
       "      <td>0.739130</td>\n",
       "      <td>0.366667</td>\n",
       "      <td>0.349206</td>\n",
       "      <td>0.442857</td>\n",
       "      <td>0.275862</td>\n",
       "      <td>0.295082</td>\n",
       "      <td>0.355932</td>\n",
       "    </tr>\n",
       "    <tr>\n",
       "      <th>Rust</th>\n",
       "      <td>0.453125</td>\n",
       "      <td>0.346939</td>\n",
       "      <td>0.508772</td>\n",
       "      <td>0.509434</td>\n",
       "      <td>0.422535</td>\n",
       "      <td>0.611111</td>\n",
       "      <td>0.384615</td>\n",
       "      <td>0.418182</td>\n",
       "      <td>0.229167</td>\n",
       "      <td>0.460317</td>\n",
       "      <td>1.000000</td>\n",
       "      <td>0.333333</td>\n",
       "      <td>0.538462</td>\n",
       "      <td>0.522388</td>\n",
       "      <td>0.418182</td>\n",
       "      <td>0.403846</td>\n",
       "      <td>0.357143</td>\n",
       "      <td>0.352941</td>\n",
       "      <td>0.320755</td>\n",
       "      <td>0.428571</td>\n",
       "    </tr>\n",
       "    <tr>\n",
       "      <th>Haskell</th>\n",
       "      <td>0.272727</td>\n",
       "      <td>0.378378</td>\n",
       "      <td>0.312500</td>\n",
       "      <td>0.416667</td>\n",
       "      <td>0.241935</td>\n",
       "      <td>0.333333</td>\n",
       "      <td>0.515152</td>\n",
       "      <td>0.411765</td>\n",
       "      <td>0.259259</td>\n",
       "      <td>0.254237</td>\n",
       "      <td>0.333333</td>\n",
       "      <td>1.000000</td>\n",
       "      <td>0.454545</td>\n",
       "      <td>0.223881</td>\n",
       "      <td>0.411765</td>\n",
       "      <td>0.394737</td>\n",
       "      <td>0.288462</td>\n",
       "      <td>0.531250</td>\n",
       "      <td>0.714286</td>\n",
       "      <td>0.740741</td>\n",
       "    </tr>\n",
       "    <tr>\n",
       "      <th>Ruby</th>\n",
       "      <td>0.473684</td>\n",
       "      <td>0.368421</td>\n",
       "      <td>0.520000</td>\n",
       "      <td>0.700000</td>\n",
       "      <td>0.406250</td>\n",
       "      <td>0.500000</td>\n",
       "      <td>0.555556</td>\n",
       "      <td>0.605263</td>\n",
       "      <td>0.351351</td>\n",
       "      <td>0.482759</td>\n",
       "      <td>0.538462</td>\n",
       "      <td>0.454545</td>\n",
       "      <td>1.000000</td>\n",
       "      <td>0.362319</td>\n",
       "      <td>0.605263</td>\n",
       "      <td>0.409091</td>\n",
       "      <td>0.339286</td>\n",
       "      <td>0.529412</td>\n",
       "      <td>0.459459</td>\n",
       "      <td>0.545455</td>\n",
       "    </tr>\n",
       "    <tr>\n",
       "      <th>TypeScript</th>\n",
       "      <td>0.528571</td>\n",
       "      <td>0.324324</td>\n",
       "      <td>0.537313</td>\n",
       "      <td>0.470588</td>\n",
       "      <td>0.526316</td>\n",
       "      <td>0.579710</td>\n",
       "      <td>0.285714</td>\n",
       "      <td>0.318841</td>\n",
       "      <td>0.220588</td>\n",
       "      <td>0.739130</td>\n",
       "      <td>0.522388</td>\n",
       "      <td>0.223881</td>\n",
       "      <td>0.362319</td>\n",
       "      <td>1.000000</td>\n",
       "      <td>0.318841</td>\n",
       "      <td>0.356164</td>\n",
       "      <td>0.437500</td>\n",
       "      <td>0.253731</td>\n",
       "      <td>0.260870</td>\n",
       "      <td>0.313433</td>\n",
       "    </tr>\n",
       "    <tr>\n",
       "      <th>Scheme</th>\n",
       "      <td>0.428571</td>\n",
       "      <td>0.348837</td>\n",
       "      <td>0.433962</td>\n",
       "      <td>0.536585</td>\n",
       "      <td>0.365079</td>\n",
       "      <td>0.420000</td>\n",
       "      <td>0.764706</td>\n",
       "      <td>1.000000</td>\n",
       "      <td>0.294118</td>\n",
       "      <td>0.366667</td>\n",
       "      <td>0.418182</td>\n",
       "      <td>0.411765</td>\n",
       "      <td>0.605263</td>\n",
       "      <td>0.318841</td>\n",
       "      <td>1.000000</td>\n",
       "      <td>0.354167</td>\n",
       "      <td>0.327273</td>\n",
       "      <td>0.735294</td>\n",
       "      <td>0.485714</td>\n",
       "      <td>0.500000</td>\n",
       "    </tr>\n",
       "    <tr>\n",
       "      <th>Shell</th>\n",
       "      <td>0.459016</td>\n",
       "      <td>0.558140</td>\n",
       "      <td>0.518519</td>\n",
       "      <td>0.555556</td>\n",
       "      <td>0.426471</td>\n",
       "      <td>0.471698</td>\n",
       "      <td>0.382979</td>\n",
       "      <td>0.354167</td>\n",
       "      <td>0.263158</td>\n",
       "      <td>0.349206</td>\n",
       "      <td>0.403846</td>\n",
       "      <td>0.394737</td>\n",
       "      <td>0.409091</td>\n",
       "      <td>0.356164</td>\n",
       "      <td>0.354167</td>\n",
       "      <td>1.000000</td>\n",
       "      <td>0.537037</td>\n",
       "      <td>0.377778</td>\n",
       "      <td>0.326087</td>\n",
       "      <td>0.348837</td>\n",
       "    </tr>\n",
       "    <tr>\n",
       "      <th>PowerShell</th>\n",
       "      <td>0.463768</td>\n",
       "      <td>0.615385</td>\n",
       "      <td>0.469697</td>\n",
       "      <td>0.456140</td>\n",
       "      <td>0.453333</td>\n",
       "      <td>0.476190</td>\n",
       "      <td>0.321429</td>\n",
       "      <td>0.327273</td>\n",
       "      <td>0.211538</td>\n",
       "      <td>0.442857</td>\n",
       "      <td>0.357143</td>\n",
       "      <td>0.288462</td>\n",
       "      <td>0.339286</td>\n",
       "      <td>0.437500</td>\n",
       "      <td>0.327273</td>\n",
       "      <td>0.537037</td>\n",
       "      <td>1.000000</td>\n",
       "      <td>0.301887</td>\n",
       "      <td>0.333333</td>\n",
       "      <td>0.358491</td>\n",
       "    </tr>\n",
       "    <tr>\n",
       "      <th>Clojure</th>\n",
       "      <td>0.327273</td>\n",
       "      <td>0.365854</td>\n",
       "      <td>0.333333</td>\n",
       "      <td>0.473684</td>\n",
       "      <td>0.274194</td>\n",
       "      <td>0.346939</td>\n",
       "      <td>0.906250</td>\n",
       "      <td>0.735294</td>\n",
       "      <td>0.218750</td>\n",
       "      <td>0.275862</td>\n",
       "      <td>0.352941</td>\n",
       "      <td>0.531250</td>\n",
       "      <td>0.529412</td>\n",
       "      <td>0.253731</td>\n",
       "      <td>0.735294</td>\n",
       "      <td>0.377778</td>\n",
       "      <td>0.301887</td>\n",
       "      <td>1.000000</td>\n",
       "      <td>0.542857</td>\n",
       "      <td>0.588235</td>\n",
       "    </tr>\n",
       "    <tr>\n",
       "      <th>OCaml</th>\n",
       "      <td>0.375000</td>\n",
       "      <td>0.365854</td>\n",
       "      <td>0.346154</td>\n",
       "      <td>0.425000</td>\n",
       "      <td>0.338710</td>\n",
       "      <td>0.333333</td>\n",
       "      <td>0.542857</td>\n",
       "      <td>0.485714</td>\n",
       "      <td>0.258065</td>\n",
       "      <td>0.295082</td>\n",
       "      <td>0.320755</td>\n",
       "      <td>0.714286</td>\n",
       "      <td>0.459459</td>\n",
       "      <td>0.260870</td>\n",
       "      <td>0.485714</td>\n",
       "      <td>0.326087</td>\n",
       "      <td>0.333333</td>\n",
       "      <td>0.542857</td>\n",
       "      <td>1.000000</td>\n",
       "      <td>0.677419</td>\n",
       "    </tr>\n",
       "    <tr>\n",
       "      <th>Standard ML</th>\n",
       "      <td>0.339286</td>\n",
       "      <td>0.405405</td>\n",
       "      <td>0.380000</td>\n",
       "      <td>0.486486</td>\n",
       "      <td>0.317460</td>\n",
       "      <td>0.456522</td>\n",
       "      <td>0.676471</td>\n",
       "      <td>0.500000</td>\n",
       "      <td>0.312500</td>\n",
       "      <td>0.355932</td>\n",
       "      <td>0.428571</td>\n",
       "      <td>0.740741</td>\n",
       "      <td>0.545455</td>\n",
       "      <td>0.313433</td>\n",
       "      <td>0.500000</td>\n",
       "      <td>0.348837</td>\n",
       "      <td>0.358491</td>\n",
       "      <td>0.588235</td>\n",
       "      <td>0.677419</td>\n",
       "      <td>1.000000</td>\n",
       "    </tr>\n",
       "  </tbody>\n",
       "</table>\n",
       "</div>"
      ],
      "text/plain": [
       "                  C++      Perl         C    Python      Java        Go  \\\n",
       "C++          1.000000  0.370968  0.872727  0.600000  0.806452  0.583333   \n",
       "Perl         0.370968  1.000000  0.418182  0.456522  0.362319  0.433962   \n",
       "C            0.872727  0.418182  1.000000  0.666667  0.758065  0.648148   \n",
       "Python       0.600000  0.456522  0.666667  1.000000  0.516129  0.622222   \n",
       "Java         0.806452  0.362319  0.758065  0.516129  1.000000  0.546875   \n",
       "Go           0.583333  0.433962  0.648148  0.622222  0.546875  1.000000   \n",
       "Emacs Lisp   0.345455  0.380952  0.346154  0.500000  0.290323  0.380000   \n",
       "Racket       0.428571  0.348837  0.433962  0.536585  0.365079  0.420000   \n",
       "R            0.267857  0.236842  0.274510  0.317073  0.269841  0.276596   \n",
       "Julia        0.500000  0.343750  0.508197  0.500000  0.485714  0.533333   \n",
       "Rust         0.453125  0.346939  0.508772  0.509434  0.422535  0.611111   \n",
       "Haskell      0.272727  0.378378  0.312500  0.416667  0.241935  0.333333   \n",
       "Ruby         0.473684  0.368421  0.520000  0.700000  0.406250  0.500000   \n",
       "TypeScript   0.528571  0.324324  0.537313  0.470588  0.526316  0.579710   \n",
       "Scheme       0.428571  0.348837  0.433962  0.536585  0.365079  0.420000   \n",
       "Shell        0.459016  0.558140  0.518519  0.555556  0.426471  0.471698   \n",
       "PowerShell   0.463768  0.615385  0.469697  0.456140  0.453333  0.476190   \n",
       "Clojure      0.327273  0.365854  0.333333  0.473684  0.274194  0.346939   \n",
       "OCaml        0.375000  0.365854  0.346154  0.425000  0.338710  0.333333   \n",
       "Standard ML  0.339286  0.405405  0.380000  0.486486  0.317460  0.456522   \n",
       "\n",
       "             Emacs Lisp    Racket         R     Julia      Rust   Haskell  \\\n",
       "C++            0.345455  0.428571  0.267857  0.500000  0.453125  0.272727   \n",
       "Perl           0.380952  0.348837  0.236842  0.343750  0.346939  0.378378   \n",
       "C              0.346154  0.433962  0.274510  0.508197  0.508772  0.312500   \n",
       "Python         0.500000  0.536585  0.317073  0.500000  0.509434  0.416667   \n",
       "Java           0.290323  0.365079  0.269841  0.485714  0.422535  0.241935   \n",
       "Go             0.380000  0.420000  0.276596  0.534483  0.611111  0.333333   \n",
       "Emacs Lisp     1.000000  0.764706  0.235294  0.322581  0.384615  0.515152   \n",
       "Racket         0.764706  1.000000  0.294118  0.366667  0.418182  0.411765   \n",
       "R              0.235294  0.294118  1.000000  0.254237  0.229167  0.259259   \n",
       "Julia          0.322581  0.366667  0.254237  1.000000  0.460317  0.254237   \n",
       "Rust           0.384615  0.418182  0.229167  0.460317  1.000000  0.333333   \n",
       "Haskell        0.515152  0.411765  0.259259  0.254237  0.333333  1.000000   \n",
       "Ruby           0.555556  0.605263  0.351351  0.482759  0.538462  0.454545   \n",
       "TypeScript     0.285714  0.318841  0.220588  0.739130  0.522388  0.223881   \n",
       "Scheme         0.764706  1.000000  0.294118  0.366667  0.418182  0.411765   \n",
       "Shell          0.382979  0.354167  0.263158  0.349206  0.403846  0.394737   \n",
       "PowerShell     0.321429  0.327273  0.211538  0.442857  0.357143  0.288462   \n",
       "Clojure        0.906250  0.735294  0.218750  0.275862  0.352941  0.531250   \n",
       "OCaml          0.542857  0.485714  0.258065  0.295082  0.320755  0.714286   \n",
       "Standard ML    0.676471  0.500000  0.312500  0.355932  0.428571  0.740741   \n",
       "\n",
       "                 Ruby  TypeScript    Scheme     Shell  PowerShell   Clojure  \\\n",
       "C++          0.473684    0.528571  0.428571  0.459016    0.463768  0.327273   \n",
       "Perl         0.368421    0.324324  0.348837  0.558140    0.615385  0.365854   \n",
       "C            0.520000    0.537313  0.433962  0.518519    0.469697  0.333333   \n",
       "Python       0.700000    0.470588  0.536585  0.555556    0.456140  0.473684   \n",
       "Java         0.406250    0.526316  0.365079  0.426471    0.453333  0.274194   \n",
       "Go           0.500000    0.579710  0.420000  0.471698    0.476190  0.346939   \n",
       "Emacs Lisp   0.555556    0.285714  0.764706  0.382979    0.321429  0.906250   \n",
       "Racket       0.605263    0.318841  1.000000  0.354167    0.327273  0.735294   \n",
       "R            0.351351    0.220588  0.294118  0.263158    0.211538  0.218750   \n",
       "Julia        0.482759    0.739130  0.366667  0.349206    0.442857  0.275862   \n",
       "Rust         0.538462    0.522388  0.418182  0.403846    0.357143  0.352941   \n",
       "Haskell      0.454545    0.223881  0.411765  0.394737    0.288462  0.531250   \n",
       "Ruby         1.000000    0.362319  0.605263  0.409091    0.339286  0.529412   \n",
       "TypeScript   0.362319    1.000000  0.318841  0.356164    0.437500  0.253731   \n",
       "Scheme       0.605263    0.318841  1.000000  0.354167    0.327273  0.735294   \n",
       "Shell        0.409091    0.356164  0.354167  1.000000    0.537037  0.377778   \n",
       "PowerShell   0.339286    0.437500  0.327273  0.537037    1.000000  0.301887   \n",
       "Clojure      0.529412    0.253731  0.735294  0.377778    0.301887  1.000000   \n",
       "OCaml        0.459459    0.260870  0.485714  0.326087    0.333333  0.542857   \n",
       "Standard ML  0.545455    0.313433  0.500000  0.348837    0.358491  0.588235   \n",
       "\n",
       "                OCaml  Standard ML  \n",
       "C++          0.375000     0.339286  \n",
       "Perl         0.365854     0.405405  \n",
       "C            0.346154     0.380000  \n",
       "Python       0.425000     0.486486  \n",
       "Java         0.338710     0.317460  \n",
       "Go           0.333333     0.456522  \n",
       "Emacs Lisp   0.542857     0.676471  \n",
       "Racket       0.485714     0.500000  \n",
       "R            0.258065     0.312500  \n",
       "Julia        0.295082     0.355932  \n",
       "Rust         0.320755     0.428571  \n",
       "Haskell      0.714286     0.740741  \n",
       "Ruby         0.459459     0.545455  \n",
       "TypeScript   0.260870     0.313433  \n",
       "Scheme       0.485714     0.500000  \n",
       "Shell        0.326087     0.348837  \n",
       "PowerShell   0.333333     0.358491  \n",
       "Clojure      0.542857     0.588235  \n",
       "OCaml        1.000000     0.677419  \n",
       "Standard ML  0.677419     1.000000  "
      ]
     },
     "execution_count": 125,
     "metadata": {},
     "output_type": "execute_result"
    }
   ],
   "source": [
    "df"
   ]
  },
  {
   "cell_type": "code",
   "execution_count": 126,
   "metadata": {},
   "outputs": [],
   "source": [
    "# save to file\n",
    "df.to_csv(fp)"
   ]
  },
  {
   "cell_type": "markdown",
   "metadata": {},
   "source": [
    "## Construct Tree"
   ]
  },
  {
   "cell_type": "code",
   "execution_count": 10,
   "metadata": {},
   "outputs": [],
   "source": [
    "from scipy.cluster.hierarchy import linkage, dendrogram\n",
    "from matplotlib import pyplot as plt\n",
    "import pandas as pd"
   ]
  },
  {
   "cell_type": "code",
   "execution_count": 14,
   "metadata": {},
   "outputs": [],
   "source": [
    "# Read from file (if restarting kernel)\n",
    "df = pd.read_csv('out/my_langs_identity.csv', index_col=0)"
   ]
  },
  {
   "cell_type": "code",
   "execution_count": 18,
   "metadata": {},
   "outputs": [
    {
     "data": {
      "image/png": "[encoded data removed]",
      "text/plain": [
       "<Figure size 576x432 with 1 Axes>"
      ]
     },
     "metadata": {
      "needs_background": "light"
     },
     "output_type": "display_data"
    }
   ],
   "source": [
    "labels = list(df.columns)\n",
    "plt.figure(figsize=(8, 6))\n",
    "average = linkage(df, \"average\")\n",
    "dendrogram(\n",
    "    average, labels=labels, orientation=\"left\", leaf_font_size=8\n",
    ");\n",
    "plt.savefig('out/tree.png', dpi=300, bbox_inches='tight')"
   ]
  },
  {
   "cell_type": "code",
   "execution_count": null,
   "metadata": {},
   "outputs": [],
   "source": []
  },
  {
   "cell_type": "code",
   "execution_count": null,
   "metadata": {},
   "outputs": [],
   "source": []
  },
  {
   "cell_type": "code",
   "execution_count": null,
   "metadata": {},
   "outputs": [],
   "source": []
  },
  {
   "cell_type": "code",
   "execution_count": null,
   "metadata": {},
   "outputs": [],
   "source": []
  },
  {
   "cell_type": "code",
   "execution_count": null,
   "metadata": {},
   "outputs": [],
   "source": []
  },
  {
   "cell_type": "code",
   "execution_count": null,
   "metadata": {},
   "outputs": [],
   "source": []
  },
  {
   "cell_type": "markdown",
   "metadata": {},
   "source": [
    "Identity -> distance score?\n",
    "\n",
    "See:\n",
    "\n",
    "- https://medium.com/@bostjan_cigan/using-the-needleman-wunsch-algorithm-to-draw-evolutionary-trees-90d9db149413\n",
    "- https://joernhees.de/blog/2015/08/26/scipy-hierarchical-clustering-and-dendrogram-tutorial/"
   ]
  },
  {
   "cell_type": "code",
   "execution_count": 49,
   "metadata": {},
   "outputs": [],
   "source": [
    "\n",
    "# # Calculate the distance scoring matrix\n",
    "# def scoring_distance_matrix(scoring_matrix, table):\n",
    " \n",
    "#     scoring_distance_matrix = create_matrix(len(scoring_matrix[0]), len(scoring_matrix[0]))\n",
    "#     maxR = get_matrix_max(scoring_matrix)\n",
    " \n",
    "#     for i in range(0, len(table)):\n",
    "#         for j in range(0, len(table)):\n",
    "#             scoring_distance_matrix[i][j] = abs(scoring_matrix[i][j] - maxR)\n",
    " \n",
    "#     return scoring_distance_matrix\n",
    " \n",
    "# # Return the max value in a matrix, used in \n",
    "# # scoring_distance_matrix method\n",
    "# def get_matrix_max(matrix):\n",
    " \n",
    "#     max_value = None\n",
    " \n",
    "#     for i in range(0, len(matrix[0])):\n",
    "#         for j in range(0, len(matrix[0])):\n",
    "#             if(max_value == None):\n",
    "#                 max_value = matrix[i][j]\n",
    "#             if(matrix[i][j] >= max_value):\n",
    "#                 max_value = matrix[i][j]\n",
    " \n",
    "#     return max_value\n",
    "\n",
    "# scoring_distance_matrix = scoring_distance_matrix(scoring_matrix, langs)"
   ]
  },
  {
   "cell_type": "code",
   "execution_count": 18,
   "metadata": {},
   "outputs": [],
   "source": []
  },
  {
   "cell_type": "code",
   "execution_count": null,
   "metadata": {},
   "outputs": [],
   "source": []
  }
 ],
 "metadata": {
  "kernelspec": {
   "display_name": "Python 3",
   "language": "python",
   "name": "python3"
  },
  "language_info": {
   "codemirror_mode": {
    "name": "ipython",
    "version": 3
   },
   "file_extension": ".py",
   "mimetype": "text/x-python",
   "name": "python",
   "nbconvert_exporter": "python",
   "pygments_lexer": "ipython3",
   "version": "3.7.3"
  }
 },
 "nbformat": 4,
 "nbformat_minor": 2
}
