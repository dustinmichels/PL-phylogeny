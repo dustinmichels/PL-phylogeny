{
 "cells": [
  {
   "cell_type": "markdown",
   "metadata": {},
   "source": [
    "# Needleman–Wunsch"
   ]
  },
  {
   "cell_type": "code",
   "execution_count": 1,
   "metadata": {},
   "outputs": [],
   "source": [
    "%load_ext autoreload\n",
    "%autoreload 2\n",
    "\n",
    "import numpy as np\n",
    "import pandas as pd\n",
    "from IPython.display import display, Markdown, Latex"
   ]
  },
  {
   "cell_type": "code",
   "execution_count": 2,
   "metadata": {},
   "outputs": [],
   "source": [
    "import sys\n",
    "sys.path.insert(0, '..')"
   ]
  },
  {
   "cell_type": "markdown",
   "metadata": {},
   "source": [
    "## Get Data"
   ]
  },
  {
   "cell_type": "code",
   "execution_count": 3,
   "metadata": {},
   "outputs": [],
   "source": [
    "from phylo.main import load_snippets_data, load_snippets_md"
   ]
  },
  {
   "cell_type": "code",
   "execution_count": 4,
   "metadata": {},
   "outputs": [],
   "source": [
    "data = load_snippets_data('mult')\n",
    "md = load_snippets_md('mult')"
   ]
  },
  {
   "cell_type": "markdown",
   "metadata": {},
   "source": [
    "# Using Algo"
   ]
  },
  {
   "cell_type": "code",
   "execution_count": 5,
   "metadata": {},
   "outputs": [],
   "source": [
    "from phylo.needleman_wunsch import (\n",
    "    nw, arr_to_frames, arr_to_table,\n",
    "    traceback\n",
    ")"
   ]
  },
  {
   "cell_type": "code",
   "execution_count": 6,
   "metadata": {},
   "outputs": [],
   "source": [
    "s1 = \"hello\"\n",
    "s2 = \"hallo\""
   ]
  },
  {
   "cell_type": "code",
   "execution_count": 7,
   "metadata": {},
   "outputs": [],
   "source": [
    "arr = nw(s1, s2)"
   ]
  },
  {
   "cell_type": "code",
   "execution_count": 8,
   "metadata": {},
   "outputs": [
    {
     "data": {
      "text/html": [
       "<div>\n",
       "<style scoped>\n",
       "    .dataframe tbody tr th:only-of-type {\n",
       "        vertical-align: middle;\n",
       "    }\n",
       "\n",
       "    .dataframe tbody tr th {\n",
       "        vertical-align: top;\n",
       "    }\n",
       "\n",
       "    .dataframe thead th {\n",
       "        text-align: right;\n",
       "    }\n",
       "</style>\n",
       "<table border=\"1\" class=\"dataframe\">\n",
       "  <thead>\n",
       "    <tr style=\"text-align: right;\">\n",
       "      <th></th>\n",
       "      <th></th>\n",
       "      <th>h</th>\n",
       "      <th>e</th>\n",
       "      <th>l</th>\n",
       "      <th>l</th>\n",
       "      <th>o</th>\n",
       "    </tr>\n",
       "  </thead>\n",
       "  <tbody>\n",
       "    <tr>\n",
       "      <th></th>\n",
       "      <td>[. 0]</td>\n",
       "      <td>[← -1]</td>\n",
       "      <td>[← -2]</td>\n",
       "      <td>[← -3]</td>\n",
       "      <td>[← -4]</td>\n",
       "      <td>[← -5]</td>\n",
       "    </tr>\n",
       "    <tr>\n",
       "      <th>h</th>\n",
       "      <td>[↑ -1]</td>\n",
       "      <td>[↖ 1]</td>\n",
       "      <td>[← 0]</td>\n",
       "      <td>[← -1]</td>\n",
       "      <td>[← -2]</td>\n",
       "      <td>[← -3]</td>\n",
       "    </tr>\n",
       "    <tr>\n",
       "      <th>a</th>\n",
       "      <td>[↑ -2]</td>\n",
       "      <td>[↑ 0]</td>\n",
       "      <td>[↖ 0]</td>\n",
       "      <td>[↖ -1]</td>\n",
       "      <td>[↖ -2]</td>\n",
       "      <td>[↖ -3]</td>\n",
       "    </tr>\n",
       "    <tr>\n",
       "      <th>l</th>\n",
       "      <td>[↑ -3]</td>\n",
       "      <td>[↑ -1]</td>\n",
       "      <td>[↖ -1]</td>\n",
       "      <td>[↖ 1]</td>\n",
       "      <td>[↖ 0]</td>\n",
       "      <td>[← -1]</td>\n",
       "    </tr>\n",
       "    <tr>\n",
       "      <th>l</th>\n",
       "      <td>[↑ -4]</td>\n",
       "      <td>[↑ -2]</td>\n",
       "      <td>[↖ -2]</td>\n",
       "      <td>[↖ 0]</td>\n",
       "      <td>[↖ 2]</td>\n",
       "      <td>[← 1]</td>\n",
       "    </tr>\n",
       "    <tr>\n",
       "      <th>o</th>\n",
       "      <td>[↑ -5]</td>\n",
       "      <td>[↑ -3]</td>\n",
       "      <td>[↖ -3]</td>\n",
       "      <td>[↑ -1]</td>\n",
       "      <td>[↑ 1]</td>\n",
       "      <td>[↖ 3]</td>\n",
       "    </tr>\n",
       "  </tbody>\n",
       "</table>\n",
       "</div>"
      ],
      "text/plain": [
       "                h       e       l       l       o\n",
       "    [. 0]  [← -1]  [← -2]  [← -3]  [← -4]  [← -5]\n",
       "h  [↑ -1]   [↖ 1]   [← 0]  [← -1]  [← -2]  [← -3]\n",
       "a  [↑ -2]   [↑ 0]   [↖ 0]  [↖ -1]  [↖ -2]  [↖ -3]\n",
       "l  [↑ -3]  [↑ -1]  [↖ -1]   [↖ 1]   [↖ 0]  [← -1]\n",
       "l  [↑ -4]  [↑ -2]  [↖ -2]   [↖ 0]   [↖ 2]   [← 1]\n",
       "o  [↑ -5]  [↑ -3]  [↖ -3]  [↑ -1]   [↑ 1]   [↖ 3]"
      ]
     },
     "execution_count": 8,
     "metadata": {},
     "output_type": "execute_result"
    }
   ],
   "source": [
    "arr_to_table(arr, s1, s2)"
   ]
  },
  {
   "cell_type": "code",
   "execution_count": 9,
   "metadata": {},
   "outputs": [],
   "source": [
    "a, b = traceback(arr['dir'], s1, s2)"
   ]
  },
  {
   "cell_type": "code",
   "execution_count": 10,
   "metadata": {},
   "outputs": [],
   "source": [
    "def identity_score(aligned_s1, aligned_s2):\n",
    "    \"\"\"\n",
    "    Get identity score for aligned strings\n",
    "    \"\"\"\n",
    "    assert len(aligned_s1) == len(aligned_s2), \"Strings must be the same length\"\n",
    "    \n",
    "    identity = 0\n",
    "    length = len(aligned_s1)\n",
    "    \n",
    "    for i in range(length):\n",
    "        if a[i] == b[i]:\n",
    "            identity += 1\n",
    "            \n",
    "    frac = f\"{identity}/{length}\"\n",
    "    percent = identity / length\n",
    "    \n",
    "    return frac, percent"
   ]
  },
  {
   "cell_type": "code",
   "execution_count": 12,
   "metadata": {},
   "outputs": [
    {
     "data": {
      "text/plain": [
       "('4/5', 0.8)"
      ]
     },
     "execution_count": 12,
     "metadata": {},
     "output_type": "execute_result"
    }
   ],
   "source": [
    "identity_score(a, b)"
   ]
  },
  {
   "cell_type": "code",
   "execution_count": 13,
   "metadata": {},
   "outputs": [],
   "source": [
    "def traceback(dir_matrix, s1, s2):\n",
    "    row_idx = len(res) - 1\n",
    "    col_idx = len(res[1]) - 1\n",
    "    return _traceback_helper(res, row_idx, col_idx, s1, s2, \"\", \"\")\n",
    "\n",
    "\n",
    "def _traceback_helper(res, row, col, s1, s2, str1, str2):\n",
    "    cell = res[row, col]\n",
    "    if cell == \"D\":\n",
    "        str1 += s1[col - 1]\n",
    "        str2 += s2[row - 1]\n",
    "        return _traceback_helper(res, row - 1, col - 1, s1, s2, str1, str2)\n",
    "    elif cell == \"H\":\n",
    "        str1 += s1[col - 1]\n",
    "        str2 += \"-\"\n",
    "        return _traceback_helper(res, row, col - 1, s1, s2, str1, str2)\n",
    "    elif cell == \"V\":\n",
    "        str1 += \"-\"\n",
    "        str2 += s2[row - 1]\n",
    "        return _traceback_helper(res, row - 1, col, s1, s2, str1, str2)\n",
    "    elif cell == \".\":\n",
    "        return str1[::-1], str2[::-1]\n",
    "    else:\n",
    "        print(\"error!\")"
   ]
  },
  {
   "cell_type": "code",
   "execution_count": null,
   "metadata": {},
   "outputs": [],
   "source": []
  },
  {
   "cell_type": "code",
   "execution_count": 25,
   "metadata": {},
   "outputs": [],
   "source": [
    "letters = arr['dir']"
   ]
  },
  {
   "cell_type": "code",
   "execution_count": 26,
   "metadata": {},
   "outputs": [
    {
     "data": {
      "text/plain": [
       "('hello', 'hallo')"
      ]
     },
     "execution_count": 26,
     "metadata": {},
     "output_type": "execute_result"
    }
   ],
   "source": [
    "traceback(letters, s1, s2)"
   ]
  },
  {
   "cell_type": "code",
   "execution_count": 27,
   "metadata": {},
   "outputs": [
    {
     "data": {
      "text/plain": [
       "array([['.', 'H', 'H', 'H', 'H', 'H'],\n",
       "       ['V', 'D', 'H', 'H', 'H', 'H'],\n",
       "       ['V', 'V', 'D', 'D', 'D', 'D'],\n",
       "       ['V', 'V', 'D', 'D', 'D', 'H'],\n",
       "       ['V', 'V', 'D', 'D', 'D', 'H'],\n",
       "       ['V', 'V', 'D', 'V', 'V', 'D']], dtype='<U1')"
      ]
     },
     "execution_count": 27,
     "metadata": {},
     "output_type": "execute_result"
    }
   ],
   "source": [
    "letters"
   ]
  },
  {
   "cell_type": "code",
   "execution_count": null,
   "metadata": {},
   "outputs": [],
   "source": []
  },
  {
   "cell_type": "code",
   "execution_count": null,
   "metadata": {},
   "outputs": [],
   "source": []
  },
  {
   "cell_type": "code",
   "execution_count": null,
   "metadata": {},
   "outputs": [],
   "source": []
  },
  {
   "cell_type": "code",
   "execution_count": null,
   "metadata": {},
   "outputs": [],
   "source": []
  },
  {
   "cell_type": "markdown",
   "metadata": {},
   "source": [
    "## Algo"
   ]
  },
  {
   "cell_type": "code",
   "execution_count": 5,
   "metadata": {},
   "outputs": [],
   "source": [
    "def arr_to_frames(arr):\n",
    "    cols = [' '] + list(s1)\n",
    "    idx = [' '] + list(s2)\n",
    "    \n",
    "    vals = pd.DataFrame(arr['val'], columns=cols, index=idx)\n",
    "    dirs = (pd.DataFrame(arr['dir'], columns=cols, index=idx)\n",
    "            .replace(regex=\"H\", value='\\u2190')\n",
    "            .replace(regex=\"V\", value='\\u2191')\n",
    "            .replace(regex=\"D\", value='\\u2196'))\n",
    "    \n",
    "    return vals, dirs"
   ]
  },
  {
   "cell_type": "code",
   "execution_count": 6,
   "metadata": {},
   "outputs": [],
   "source": [
    "def see(arr):\n",
    "    vals, dirs = arr_to_frames(arr)\n",
    "    combined = \"[\" + dirs + \" \" + vals.astype(np.unicode_) + \"]\"\n",
    "    display(combined)"
   ]
  },
  {
   "cell_type": "code",
   "execution_count": 7,
   "metadata": {},
   "outputs": [],
   "source": [
    "s1 = \"dood\" # top\n",
    "s2 = \"dod\"  # side\n",
    "\n",
    "match = 1\n",
    "mismatch = -1\n",
    "gap = -1"
   ]
  },
  {
   "cell_type": "code",
   "execution_count": 11,
   "metadata": {},
   "outputs": [],
   "source": [
    "penalty = {\"match\": match, \"miss\": mismatch, \"gap\": gap}"
   ]
  },
  {
   "cell_type": "code",
   "execution_count": 12,
   "metadata": {},
   "outputs": [],
   "source": [
    "w = len(s1) + 1  # width\n",
    "h = len(s2) + 1  # height"
   ]
  },
  {
   "cell_type": "code",
   "execution_count": 13,
   "metadata": {},
   "outputs": [],
   "source": [
    "arr = np.empty(\n",
    "    (h, w),\n",
    "    dtype=[('val', 'i4'),('dir', np.unicode_, 1)]\n",
    ")\n",
    "arr.fill((0, '.'))  # 111 is a visible placeholder"
   ]
  },
  {
   "cell_type": "code",
   "execution_count": 14,
   "metadata": {},
   "outputs": [
    {
     "data": {
      "text/html": [
       "<div>\n",
       "<style scoped>\n",
       "    .dataframe tbody tr th:only-of-type {\n",
       "        vertical-align: middle;\n",
       "    }\n",
       "\n",
       "    .dataframe tbody tr th {\n",
       "        vertical-align: top;\n",
       "    }\n",
       "\n",
       "    .dataframe thead th {\n",
       "        text-align: right;\n",
       "    }\n",
       "</style>\n",
       "<table border=\"1\" class=\"dataframe\">\n",
       "  <thead>\n",
       "    <tr style=\"text-align: right;\">\n",
       "      <th></th>\n",
       "      <th></th>\n",
       "      <th>d</th>\n",
       "      <th>o</th>\n",
       "      <th>o</th>\n",
       "      <th>d</th>\n",
       "    </tr>\n",
       "  </thead>\n",
       "  <tbody>\n",
       "    <tr>\n",
       "      <th></th>\n",
       "      <td>[. 0]</td>\n",
       "      <td>[. 0]</td>\n",
       "      <td>[. 0]</td>\n",
       "      <td>[. 0]</td>\n",
       "      <td>[. 0]</td>\n",
       "    </tr>\n",
       "    <tr>\n",
       "      <th>d</th>\n",
       "      <td>[. 0]</td>\n",
       "      <td>[. 0]</td>\n",
       "      <td>[. 0]</td>\n",
       "      <td>[. 0]</td>\n",
       "      <td>[. 0]</td>\n",
       "    </tr>\n",
       "    <tr>\n",
       "      <th>o</th>\n",
       "      <td>[. 0]</td>\n",
       "      <td>[. 0]</td>\n",
       "      <td>[. 0]</td>\n",
       "      <td>[. 0]</td>\n",
       "      <td>[. 0]</td>\n",
       "    </tr>\n",
       "    <tr>\n",
       "      <th>d</th>\n",
       "      <td>[. 0]</td>\n",
       "      <td>[. 0]</td>\n",
       "      <td>[. 0]</td>\n",
       "      <td>[. 0]</td>\n",
       "      <td>[. 0]</td>\n",
       "    </tr>\n",
       "  </tbody>\n",
       "</table>\n",
       "</div>"
      ],
      "text/plain": [
       "              d      o      o      d\n",
       "   [. 0]  [. 0]  [. 0]  [. 0]  [. 0]\n",
       "d  [. 0]  [. 0]  [. 0]  [. 0]  [. 0]\n",
       "o  [. 0]  [. 0]  [. 0]  [. 0]  [. 0]\n",
       "d  [. 0]  [. 0]  [. 0]  [. 0]  [. 0]"
      ]
     },
     "metadata": {},
     "output_type": "display_data"
    }
   ],
   "source": [
    "see(arr)"
   ]
  },
  {
   "cell_type": "code",
   "execution_count": 15,
   "metadata": {},
   "outputs": [],
   "source": [
    "# fill in first row & col, descending\n",
    "\n",
    "arr[0,0]['val'] = 0\n",
    "\n",
    "arr[0,1:]['val'] = np.arange(-1, -w, -1)\n",
    "arr[0,1:]['dir'] = 'H'\n",
    "\n",
    "arr[1:,0]['val'] = np.arange(-1, -h, -1)\n",
    "arr[1:,0]['dir'] = 'V'"
   ]
  },
  {
   "cell_type": "code",
   "execution_count": 16,
   "metadata": {},
   "outputs": [
    {
     "data": {
      "text/html": [
       "<div>\n",
       "<style scoped>\n",
       "    .dataframe tbody tr th:only-of-type {\n",
       "        vertical-align: middle;\n",
       "    }\n",
       "\n",
       "    .dataframe tbody tr th {\n",
       "        vertical-align: top;\n",
       "    }\n",
       "\n",
       "    .dataframe thead th {\n",
       "        text-align: right;\n",
       "    }\n",
       "</style>\n",
       "<table border=\"1\" class=\"dataframe\">\n",
       "  <thead>\n",
       "    <tr style=\"text-align: right;\">\n",
       "      <th></th>\n",
       "      <th></th>\n",
       "      <th>d</th>\n",
       "      <th>o</th>\n",
       "      <th>o</th>\n",
       "      <th>d</th>\n",
       "    </tr>\n",
       "  </thead>\n",
       "  <tbody>\n",
       "    <tr>\n",
       "      <th></th>\n",
       "      <td>[. 0]</td>\n",
       "      <td>[← -1]</td>\n",
       "      <td>[← -2]</td>\n",
       "      <td>[← -3]</td>\n",
       "      <td>[← -4]</td>\n",
       "    </tr>\n",
       "    <tr>\n",
       "      <th>d</th>\n",
       "      <td>[↑ -1]</td>\n",
       "      <td>[. 0]</td>\n",
       "      <td>[. 0]</td>\n",
       "      <td>[. 0]</td>\n",
       "      <td>[. 0]</td>\n",
       "    </tr>\n",
       "    <tr>\n",
       "      <th>o</th>\n",
       "      <td>[↑ -2]</td>\n",
       "      <td>[. 0]</td>\n",
       "      <td>[. 0]</td>\n",
       "      <td>[. 0]</td>\n",
       "      <td>[. 0]</td>\n",
       "    </tr>\n",
       "    <tr>\n",
       "      <th>d</th>\n",
       "      <td>[↑ -3]</td>\n",
       "      <td>[. 0]</td>\n",
       "      <td>[. 0]</td>\n",
       "      <td>[. 0]</td>\n",
       "      <td>[. 0]</td>\n",
       "    </tr>\n",
       "  </tbody>\n",
       "</table>\n",
       "</div>"
      ],
      "text/plain": [
       "                d       o       o       d\n",
       "    [. 0]  [← -1]  [← -2]  [← -3]  [← -4]\n",
       "d  [↑ -1]   [. 0]   [. 0]   [. 0]   [. 0]\n",
       "o  [↑ -2]   [. 0]   [. 0]   [. 0]   [. 0]\n",
       "d  [↑ -3]   [. 0]   [. 0]   [. 0]   [. 0]"
      ]
     },
     "metadata": {},
     "output_type": "display_data"
    }
   ],
   "source": [
    "see(arr)"
   ]
  },
  {
   "cell_type": "code",
   "execution_count": 65,
   "metadata": {},
   "outputs": [],
   "source": [
    "for i in range(1, h):\n",
    "    for j in range(1, w):\n",
    "        \n",
    "        # determine val of horizontal, vertical, and diagnol option\n",
    "        hor_val = arr[i, j-1]['val'] + penalty[\"gap\"]\n",
    "        vert_val = arr[i-1, j]['val'] + penalty[\"gap\"]\n",
    "        diag_val = arr[i-1, j-1]['val'] + (\n",
    "            penalty[\"match\"]\n",
    "            if s1[j-1] == s2[i-1]\n",
    "            else penalty['miss']\n",
    "        )\n",
    "        \n",
    "        # find max value and its corresponding direction\n",
    "        # (Note: currently ignores ties)\n",
    "        dirs = {hor_val: 'H', vert_val: 'V', diag_val: 'D'}   \n",
    "        selected_val = max(hor_val, vert_val, diag_val)\n",
    "        selected_dir = dirs[selected_val]\n",
    "        \n",
    "        arr[i, j]['val'] = selected_val\n",
    "        arr[i, j]['dir'] = selected_dir"
   ]
  },
  {
   "cell_type": "code",
   "execution_count": 66,
   "metadata": {},
   "outputs": [
    {
     "data": {
      "text/html": [
       "<div>\n",
       "<style scoped>\n",
       "    .dataframe tbody tr th:only-of-type {\n",
       "        vertical-align: middle;\n",
       "    }\n",
       "\n",
       "    .dataframe tbody tr th {\n",
       "        vertical-align: top;\n",
       "    }\n",
       "\n",
       "    .dataframe thead th {\n",
       "        text-align: right;\n",
       "    }\n",
       "</style>\n",
       "<table border=\"1\" class=\"dataframe\">\n",
       "  <thead>\n",
       "    <tr style=\"text-align: right;\">\n",
       "      <th></th>\n",
       "      <th></th>\n",
       "      <th>d</th>\n",
       "      <th>o</th>\n",
       "      <th>o</th>\n",
       "      <th>d</th>\n",
       "    </tr>\n",
       "  </thead>\n",
       "  <tbody>\n",
       "    <tr>\n",
       "      <th></th>\n",
       "      <td>[. 0]</td>\n",
       "      <td>[← -1]</td>\n",
       "      <td>[← -2]</td>\n",
       "      <td>[← -3]</td>\n",
       "      <td>[← -4]</td>\n",
       "    </tr>\n",
       "    <tr>\n",
       "      <th>d</th>\n",
       "      <td>[↑ -1]</td>\n",
       "      <td>[↖ 1]</td>\n",
       "      <td>[← 0]</td>\n",
       "      <td>[← -1]</td>\n",
       "      <td>[↖ -2]</td>\n",
       "    </tr>\n",
       "    <tr>\n",
       "      <th>o</th>\n",
       "      <td>[↑ -2]</td>\n",
       "      <td>[↑ 0]</td>\n",
       "      <td>[↖ 2]</td>\n",
       "      <td>[↖ 1]</td>\n",
       "      <td>[← 0]</td>\n",
       "    </tr>\n",
       "    <tr>\n",
       "      <th>d</th>\n",
       "      <td>[↑ -3]</td>\n",
       "      <td>[↖ -1]</td>\n",
       "      <td>[↑ 1]</td>\n",
       "      <td>[↖ 1]</td>\n",
       "      <td>[↖ 2]</td>\n",
       "    </tr>\n",
       "  </tbody>\n",
       "</table>\n",
       "</div>"
      ],
      "text/plain": [
       "                d       o       o       d\n",
       "    [. 0]  [← -1]  [← -2]  [← -3]  [← -4]\n",
       "d  [↑ -1]   [↖ 1]   [← 0]  [← -1]  [↖ -2]\n",
       "o  [↑ -2]   [↑ 0]   [↖ 2]   [↖ 1]   [← 0]\n",
       "d  [↑ -3]  [↖ -1]   [↑ 1]   [↖ 1]   [↖ 2]"
      ]
     },
     "metadata": {},
     "output_type": "display_data"
    }
   ],
   "source": [
    "see(arr)"
   ]
  },
  {
   "cell_type": "code",
   "execution_count": 67,
   "metadata": {},
   "outputs": [],
   "source": [
    "hor_val = 10\n",
    "vert_val = 10\n",
    "diag_val = 9"
   ]
  },
  {
   "cell_type": "code",
   "execution_count": 68,
   "metadata": {},
   "outputs": [
    {
     "data": {
      "text/plain": [
       "10"
      ]
     },
     "execution_count": 68,
     "metadata": {},
     "output_type": "execute_result"
    }
   ],
   "source": [
    "max(10, 10, 7)"
   ]
  },
  {
   "cell_type": "code",
   "execution_count": 69,
   "metadata": {},
   "outputs": [],
   "source": [
    "dirs = {hor_val: 'H', vert_val: 'V', diag_val: 'D'}"
   ]
  },
  {
   "cell_type": "code",
   "execution_count": 70,
   "metadata": {},
   "outputs": [
    {
     "data": {
      "text/plain": [
       "'V'"
      ]
     },
     "execution_count": 70,
     "metadata": {},
     "output_type": "execute_result"
    }
   ],
   "source": [
    "dirs[10]"
   ]
  },
  {
   "cell_type": "code",
   "execution_count": 71,
   "metadata": {},
   "outputs": [
    {
     "data": {
      "text/plain": [
       "{10: 'V', 9: 'D'}"
      ]
     },
     "execution_count": 71,
     "metadata": {},
     "output_type": "execute_result"
    }
   ],
   "source": [
    "dirs"
   ]
  },
  {
   "cell_type": "code",
   "execution_count": null,
   "metadata": {},
   "outputs": [],
   "source": []
  },
  {
   "cell_type": "code",
   "execution_count": null,
   "metadata": {},
   "outputs": [],
   "source": []
  },
  {
   "cell_type": "code",
   "execution_count": null,
   "metadata": {},
   "outputs": [],
   "source": []
  },
  {
   "cell_type": "code",
   "execution_count": null,
   "metadata": {},
   "outputs": [],
   "source": []
  },
  {
   "cell_type": "code",
   "execution_count": null,
   "metadata": {},
   "outputs": [],
   "source": []
  },
  {
   "cell_type": "code",
   "execution_count": null,
   "metadata": {},
   "outputs": [],
   "source": []
  },
  {
   "cell_type": "code",
   "execution_count": null,
   "metadata": {},
   "outputs": [],
   "source": []
  },
  {
   "cell_type": "code",
   "execution_count": null,
   "metadata": {},
   "outputs": [],
   "source": []
  },
  {
   "cell_type": "code",
   "execution_count": null,
   "metadata": {},
   "outputs": [],
   "source": []
  },
  {
   "cell_type": "code",
   "execution_count": null,
   "metadata": {},
   "outputs": [],
   "source": []
  }
 ],
 "metadata": {
  "kernelspec": {
   "display_name": "Python 3",
   "language": "python",
   "name": "python3"
  },
  "language_info": {
   "codemirror_mode": {
    "name": "ipython",
    "version": 3
   },
   "file_extension": ".py",
   "mimetype": "text/x-python",
   "name": "python",
   "nbconvert_exporter": "python",
   "pygments_lexer": "ipython3",
   "version": "3.7.3"
  }
 },
 "nbformat": 4,
 "nbformat_minor": 2
}
