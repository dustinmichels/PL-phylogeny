{
 "cells": [
  {
   "cell_type": "code",
   "execution_count": 1,
   "metadata": {},
   "outputs": [],
   "source": [
    "%load_ext autoreload\n",
    "%autoreload 2"
   ]
  },
  {
   "cell_type": "code",
   "execution_count": 2,
   "metadata": {},
   "outputs": [],
   "source": [
    "import textwrap"
   ]
  },
  {
   "cell_type": "code",
   "execution_count": 3,
   "metadata": {},
   "outputs": [],
   "source": [
    "code = \"def multiply(a, b):\\n    return a * b\""
   ]
  },
  {
   "cell_type": "code",
   "execution_count": 12,
   "metadata": {},
   "outputs": [
    {
     "name": "stdout",
     "output_type": "stream",
     "text": [
      "def multiply(a, b):\n",
      "    return a * b\n"
     ]
    }
   ],
   "source": [
    "print(code)"
   ]
  },
  {
   "cell_type": "code",
   "execution_count": 13,
   "metadata": {},
   "outputs": [
    {
     "name": "stdout",
     "output_type": "stream",
     "text": [
      "    def multiply(a, b):\n",
      "        return a * b\n"
     ]
    }
   ],
   "source": [
    "print(textwrap.indent(code, \"    \"))"
   ]
  },
  {
   "cell_type": "code",
   "execution_count": 15,
   "metadata": {},
   "outputs": [],
   "source": [
    "import json"
   ]
  },
  {
   "cell_type": "code",
   "execution_count": 16,
   "metadata": {},
   "outputs": [],
   "source": [
    "with open('../snippets/mult/out/data.json') as f:\n",
    "    d = json.load(f)"
   ]
  },
  {
   "cell_type": "code",
   "execution_count": 23,
   "metadata": {},
   "outputs": [
    {
     "data": {
      "text/plain": [
       "['APL',\n",
       " 'ActionScript',\n",
       " 'Ada',\n",
       " 'AppleScript',\n",
       " 'Awk',\n",
       " 'C',\n",
       " 'C#',\n",
       " 'C++',\n",
       " 'Clojure',\n",
       " 'CoffeeScript',\n",
       " 'Common Lisp',\n",
       " 'D',\n",
       " 'E',\n",
       " 'Elixir',\n",
       " 'Elm',\n",
       " 'Emacs Lisp',\n",
       " 'Erlang',\n",
       " 'F#',\n",
       " 'FORTRAN',\n",
       " 'Go',\n",
       " 'Groovy',\n",
       " 'Haskell',\n",
       " 'Java',\n",
       " 'JavaScript',\n",
       " 'Julia',\n",
       " 'Kotlin',\n",
       " 'Lua',\n",
       " 'Mathematica',\n",
       " 'OCaml',\n",
       " 'PHP',\n",
       " 'Perl',\n",
       " 'PostScript',\n",
       " 'PowerShell',\n",
       " 'Prolog',\n",
       " 'Python',\n",
       " 'R',\n",
       " 'Racket',\n",
       " 'Ruby',\n",
       " 'Rust',\n",
       " 'Scala',\n",
       " 'Scheme',\n",
       " 'Shell',\n",
       " 'Standard ML',\n",
       " 'Swift',\n",
       " 'TypeScript',\n",
       " 'Visual Basic',\n",
       " 'Visual Basic Script']"
      ]
     },
     "execution_count": 23,
     "metadata": {},
     "output_type": "execute_result"
    }
   ],
   "source": [
    "sorted(d)"
   ]
  },
  {
   "cell_type": "code",
   "execution_count": null,
   "metadata": {},
   "outputs": [],
   "source": []
  },
  {
   "cell_type": "code",
   "execution_count": 14,
   "metadata": {},
   "outputs": [],
   "source": [
    "def test():\n",
    "    lang = \"python\"\n",
    "    code = \"def multiply(a, b):\\n    return a * b\"\n",
    "    indent_code = textwrap.indent(code, \"    \")\n",
    "    md = \"\"\n",
    "    \n",
    "    def do():\n",
    "        return textwrap.dedent(\n",
    "            f\"\"\"\n",
    "            **{lang}**\n",
    "            \n",
    "            ```{lang}\n",
    "            {indent_code}\n",
    "            ```\n",
    "            ----\n",
    "            \"\"\"\n",
    "        )\n",
    "    return do()"
   ]
  },
  {
   "cell_type": "code",
   "execution_count": 11,
   "metadata": {},
   "outputs": [
    {
     "name": "stdout",
     "output_type": "stream",
     "text": [
      "\n",
      "    **python**\n",
      "\n",
      "    ```python\n",
      "        def multiply(a, b):\n",
      "return a * b\n",
      "    ```\n",
      "    ----\n",
      "\n"
     ]
    }
   ],
   "source": [
    "print(test())"
   ]
  },
  {
   "cell_type": "code",
   "execution_count": 3,
   "metadata": {},
   "outputs": [],
   "source": [
    "import sys\n",
    "sys.path.insert(0, '..')\n",
    "\n",
    "from snippets.prepare import load_extensions"
   ]
  },
  {
   "cell_type": "code",
   "execution_count": 4,
   "metadata": {},
   "outputs": [],
   "source": [
    "root_dir = '../snippets'"
   ]
  },
  {
   "cell_type": "code",
   "execution_count": 5,
   "metadata": {},
   "outputs": [],
   "source": [
    "code_dir = '../'"
   ]
  },
  {
   "cell_type": "code",
   "execution_count": 6,
   "metadata": {},
   "outputs": [],
   "source": [
    "ext = load_extensions(root_dir)"
   ]
  },
  {
   "cell_type": "code",
   "execution_count": null,
   "metadata": {},
   "outputs": [],
   "source": []
  },
  {
   "cell_type": "code",
   "execution_count": null,
   "metadata": {},
   "outputs": [],
   "source": []
  }
 ],
 "metadata": {
  "kernelspec": {
   "display_name": "Python 3",
   "language": "python",
   "name": "python3"
  },
  "language_info": {
   "codemirror_mode": {
    "name": "ipython",
    "version": 3
   },
   "file_extension": ".py",
   "mimetype": "text/x-python",
   "name": "python",
   "nbconvert_exporter": "python",
   "pygments_lexer": "ipython3",
   "version": "3.7.3"
  }
 },
 "nbformat": 4,
 "nbformat_minor": 2
}
